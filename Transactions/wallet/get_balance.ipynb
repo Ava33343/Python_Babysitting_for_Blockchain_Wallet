{
 "cells": [
  {
   "cell_type": "code",
   "execution_count": 8,
   "metadata": {},
   "outputs": [],
   "source": [
    "#!pip install bit"
   ]
  },
  {
   "cell_type": "code",
   "execution_count": 9,
   "metadata": {},
   "outputs": [],
   "source": [
    "from bit import wif_to_key"
   ]
  },
  {
   "cell_type": "code",
   "execution_count": 10,
   "metadata": {},
   "outputs": [],
   "source": [
    "key = wif_to_key('cPCd9v8hs42JrrxCzB8aZT7KW55Vs3BDUugTeEymtFRrRHoS6Wf7')"
   ]
  },
  {
   "cell_type": "code",
   "execution_count": 11,
   "metadata": {},
   "outputs": [
    {
     "data": {
      "text/plain": [
       "'0.00187544'"
      ]
     },
     "execution_count": 11,
     "metadata": {},
     "output_type": "execute_result"
    }
   ],
   "source": [
    "key.get_balance('btc')"
   ]
  },
  {
   "cell_type": "code",
   "execution_count": 12,
   "metadata": {},
   "outputs": [
    {
     "data": {
      "text/plain": [
       "'18.11'"
      ]
     },
     "execution_count": 12,
     "metadata": {},
     "output_type": "execute_result"
    }
   ],
   "source": [
    "key.get_balance('usd')"
   ]
  },
  {
   "cell_type": "code",
   "execution_count": 13,
   "metadata": {},
   "outputs": [
    {
     "name": "stdout",
     "output_type": "stream",
     "text": [
      "e4d873537ec9100a6180863d8a978f2c52f79dc1a3886665e104aae41282728b\n"
     ]
    }
   ],
   "source": [
    "# replace with different addresses\n",
    "addresses = [\"msq6GD9gqqsnKQNtk8XwrGVU7pxZ6gJ83v\"]\n",
    "\n",
    "outputs = []\n",
    "\n",
    "for address in addresses:\n",
    "    # Insert code here\n",
    "    outputs.append((address, 0.0001, \"btc\"))\n",
    "    \n",
    "\n",
    "# send function goes here\n",
    "print(key.send(outputs))\n"
   ]
  },
  {
   "cell_type": "code",
   "execution_count": null,
   "metadata": {},
   "outputs": [],
   "source": []
  }
 ],
 "metadata": {
  "kernelspec": {
   "display_name": "eth2",
   "language": "python",
   "name": "eth2"
  },
  "language_info": {
   "codemirror_mode": {
    "name": "ipython",
    "version": 3
   },
   "file_extension": ".py",
   "mimetype": "text/x-python",
   "name": "python",
   "nbconvert_exporter": "python",
   "pygments_lexer": "ipython3",
   "version": "3.7.7"
  }
 },
 "nbformat": 4,
 "nbformat_minor": 4
}
