{
 "cells": [
  {
   "cell_type": "code",
   "execution_count": 87,
   "metadata": {},
   "outputs": [],
   "source": [
    "# Import BTC, ETH and BTCTEST\n",
    "from constants import *\n",
    "\n",
    "# For subprocess\n",
    "import subprocess\n",
    "import json\n",
    "import os, sys"
   ]
  },
  {
   "cell_type": "code",
   "execution_count": 88,
   "metadata": {},
   "outputs": [],
   "source": [
    "# Define a function to print json output neatly\n",
    "def pretty_print(response):\n",
    "    print(json.dumps(response, indent=4, sort_keys=True))"
   ]
  },
  {
   "cell_type": "markdown",
   "metadata": {},
   "source": [
    "## Derive crypto addresses and keys"
   ]
  },
  {
   "cell_type": "code",
   "execution_count": 89,
   "metadata": {},
   "outputs": [],
   "source": [
    "# Generate mnemonic phrases from https://iancoleman.io/bip39/#english\n",
    "# mnemonic = os.getenv('MNEMONIC', 'type culture spray hip century brisk sing zero upper plastic token young')\n",
    "mnemonic = os.getenv('MNEMONIC', 'type culture spray hip century brisk sing zero upper plastic token young')"
   ]
  },
  {
   "cell_type": "code",
   "execution_count": 90,
   "metadata": {},
   "outputs": [],
   "source": [
    "def derive_wallets(coin, children=3, mnemonic=mnemonic):\n",
    "    command =f'./derive -g --mnemonic=\"{mnemonic}\" --coin={coin} --numderive={children} --format=json'\n",
    "    p = subprocess.Popen(command, stdout=subprocess.PIPE, shell=True)\n",
    "    (output, err) = p.communicate()\n",
    "    p_status = p.wait()\n",
    "    keys = json.loads(output)\n",
    "    return keys"
   ]
  },
  {
   "cell_type": "code",
   "execution_count": 91,
   "metadata": {},
   "outputs": [],
   "source": [
    "# Define coins\n",
    "coins = {'btc-test': derive_wallets(coin=BTCTEST), \n",
    "         'eth': derive_wallets(coin=ETH)}"
   ]
  },
  {
   "cell_type": "code",
   "execution_count": 92,
   "metadata": {},
   "outputs": [
    {
     "name": "stdout",
     "output_type": "stream",
     "text": [
      "{\n",
      "    \"btc-test\": [\n",
      "        {\n",
      "            \"address\": \"msq6GD9gqqsnKQNtk8XwrGVU7pxZ6gJ83v\",\n",
      "            \"index\": 0,\n",
      "            \"path\": \"m/44'/1'/0'/0/0\",\n",
      "            \"privkey\": \"cU2UUtFu1HQzDRjETr1URYDYrRk9HfLM4C1DsBEVbPE5zXEMJgbj\",\n",
      "            \"pubkey\": \"02b9be12c5f3586393912e123d582e5320dde51a2829300dd4ba8c8165e156ac28\",\n",
      "            \"pubkeyhash\": \"870fa5f36d168cbf0fbee9abe1c7eb46f1339c46\",\n",
      "            \"xprv\": \"tprv8jCMMZEKpH8s2nmsWStL2KqNoc4Mkfbe7WQkKMiSsCsc8neZKW2rBMS9MgBw4PMN7s8vYDko1jEdW7dsd8bY3JE3kqv6VDjTHwB423w6hYg\",\n",
      "            \"xpub\": \"tpubDFtPVyGZxepXvFofQ6YvRjVVNdaHuznYgp1XbskkHUfzyGuKwtrSMr41Xo5wxBtqwjxUhhakg3tu9uLfX6d6weizpU5utH61WMxTFAW7oWN\"\n",
      "        },\n",
      "        {\n",
      "            \"address\": \"mqa2MEYrG9JhBSLpAuEtFTwogJFDToJ9Fx\",\n",
      "            \"index\": 1,\n",
      "            \"path\": \"m/44'/1'/0'/0/1\",\n",
      "            \"privkey\": \"cRPGPdbdsLa94TUpqxoxTckka8haU64qGXej9CEgLUr72Td6jYhU\",\n",
      "            \"pubkey\": \"023aff834b7dcf7261765257f1bade38dd1c35a12daa776915d9258f0e18756874\",\n",
      "            \"pubkeyhash\": \"6e45e3f9ad839050e26221640a22157f5ac011a2\",\n",
      "            \"xprv\": \"tprv8jCMMZEKpH8s3Tt5SPiUrqqj8uEvVy4giz1rBy13gfvDZNiYmZ6cH9nwkARTuxUX8wXYRFNhyuQ1bnTYGcC4sLmvebA4vGQXzwaFm7Zcvdz\",\n",
      "            \"xpub\": \"tpubDFtPVyGZxepXvvusL3P5GFVqhvkrfJFbJHcdUV3M6wicPryKPwvCTeQovGxNYg2nSK2Fyrxu4uqwfX1H7j8qHwRgK1bh4pdVwjbuv6b9KF3\"\n",
      "        },\n",
      "        {\n",
      "            \"address\": \"mjoDwRgNBdQV7dMQaC3rwMpGSXTdm5yDC6\",\n",
      "            \"index\": 2,\n",
      "            \"path\": \"m/44'/1'/0'/0/2\",\n",
      "            \"privkey\": \"cS1Kyi1UsZ1HV1Gr2kdNKFa5VRt4cB1CzNML1jr7GBFtFX4HgVZ1\",\n",
      "            \"pubkey\": \"0325d124729961457a29ca9cbeb2d499c913d4693a0744b7bf1c245e812147579c\",\n",
      "            \"pubkeyhash\": \"2ef437bfbb019ab5b89e522b1c0da3104c579745\",\n",
      "            \"xprv\": \"tprv8jCMMZEKpH8s7DVYQTBv3fTjMhMkkKqdcGPzs4rXq8soGSw2M6riyReihTZJtnBLjcyiXjYRVyLDkywKEmFVp4hKFDRQHzcsoD5eocWfgeC\",\n",
      "            \"xpub\": \"tpubDFtPVyGZxepXzgXLJ6rWT57qvisguf2YBZzn9atqFQgC6wBnyVgK9vGasbjTnRpEkxVXRhXWGY18v3f5tQH3LuN4Y9yMdekkReEnjvy32Aa\"\n",
      "        }\n",
      "    ],\n",
      "    \"eth\": [\n",
      "        {\n",
      "            \"address\": \"0x18FffAd71460dEF9AE7B4567c05Fe8a5dA53de45\",\n",
      "            \"index\": 0,\n",
      "            \"path\": \"m/44'/60'/0'/0/0\",\n",
      "            \"privkey\": \"0xbe761ca35e6c1614c50bf64e4bfd21f588e95de71df8ee77588b8a4802fffd14\",\n",
      "            \"pubkey\": \"02554ac7f3ca9bd1ed4c2892eed2f88439d8799f5ede612ae275fa7eaa0924df8a\",\n",
      "            \"pubkeyhash\": \"dfa53a8b5705f1188642814fa68146de66ff4686\",\n",
      "            \"xprv\": \"xprvA3rL5y6h5cugmwiUwkN3bu1ewrY6V64rYFcVp2scNwujPnmJ2TyhAMKtAh7EDxyGyisxUxjpqQejA5Zd6f1bvcfjYD8Mg7u1bgW9H7FhivQ\",\n",
      "            \"xpub\": \"xpub6GqgVUdauzTyzRnx3mu3y2xPVtNatYnhuUY6cRHDwHSiGb6Sa1Hwi9eN1wLgFxnaXmyU3ZECE5ucXSwBhzbinffcgyU7wwyiUrncUxE9qLJ\"\n",
      "        },\n",
      "        {\n",
      "            \"address\": \"0xC276D64A07719010889B795541e1987418a20d96\",\n",
      "            \"index\": 1,\n",
      "            \"path\": \"m/44'/60'/0'/0/1\",\n",
      "            \"privkey\": \"0x2d9220d8a7b7309bb878bc0990f90f680cbde50deb0c7b479854ef5b4a543a50\",\n",
      "            \"pubkey\": \"02a15ac74748696c8e9aa2edca18cf05eb6b74b473cffb1c1c8d411cd7bff15994\",\n",
      "            \"pubkeyhash\": \"807f448d438dce5a7426648619a057ea7f2ea35d\",\n",
      "            \"xprv\": \"xprvA3rL5y6h5cugoxBKHhzhV5QVCcsUHrKyK2dKDYT1ee72xXm7L5B7EoFvzpVGW9Jkjw7YLxRv6Tvs95zrYmkmDxmyN696qng6LQJYeoSu1jr\",\n",
      "            \"xpub\": \"xpub6GqgVUdauzTz2SFnPjXhrDMDkehxhK3pgFYv1vrdCye1qL6FscVMnbaQr6Q2VByhciuMEPw2uCQcPTBdtPkfNrMKijwU9yurK7gYbZybNKq\"\n",
      "        },\n",
      "        {\n",
      "            \"address\": \"0x25E8FeCeb0329e41A771C28c2289453BC2F0AC40\",\n",
      "            \"index\": 2,\n",
      "            \"path\": \"m/44'/60'/0'/0/2\",\n",
      "            \"privkey\": \"0x890aa4d7cfb21dfdf97e6379b89ce26b93f92c2aa306916b2d74551ede102085\",\n",
      "            \"pubkey\": \"02e3757309406da391436477a6cf730846070a8108f975b5bfb90ebbc316938c82\",\n",
      "            \"pubkeyhash\": \"18f8aaae30fa2b8bbdb194b0960dea9e2883d90b\",\n",
      "            \"xprv\": \"xprvA3rL5y6h5cugrpK62qUxNx7ywY9RrQFXhPZ56fXNdzkufRGUqaH4zuvRCUtwnR9oQugwwtuffnmSMZFMaQ4i8erct1R6yeCz8U27SiZ3JZH\",\n",
      "            \"xpub\": \"xpub6GqgVUdauzTz5JPZ8s1xk64iVZyvFryP4cUfu3vzCLHtYDbdP7bKYiEu3kcXp4KtVSVm2N8mEjjrefKqTAMEpE8kM8KsPd7t1GGjfjnJsP9\"\n",
      "        }\n",
      "    ]\n",
      "}\n"
     ]
    }
   ],
   "source": [
    "# Print out keys\n",
    "pretty_print(coins)"
   ]
  },
  {
   "cell_type": "code",
   "execution_count": 93,
   "metadata": {},
   "outputs": [],
   "source": [
    "# Select child account private key by calling the following function\n",
    "def child_key(coin, index, secret):\n",
    "    child_account_key = coins[coin][index][secret]\n",
    "    return child_account_key"
   ]
  },
  {
   "cell_type": "code",
   "execution_count": 94,
   "metadata": {},
   "outputs": [
    {
     "data": {
      "text/plain": [
       "'0x890aa4d7cfb21dfdf97e6379b89ce26b93f92c2aa306916b2d74551ede102085'"
      ]
     },
     "execution_count": 94,
     "metadata": {},
     "output_type": "execute_result"
    }
   ],
   "source": [
    "# Test print the third key generated\n",
    "child_key(ETH,2,'privkey')"
   ]
  },
  {
   "cell_type": "code",
   "execution_count": 95,
   "metadata": {},
   "outputs": [
    {
     "data": {
      "text/plain": [
       "'0x2d9220d8a7b7309bb878bc0990f90f680cbde50deb0c7b479854ef5b4a543a50'"
      ]
     },
     "execution_count": 95,
     "metadata": {},
     "output_type": "execute_result"
    }
   ],
   "source": [
    "# Alternatively\n",
    "child_key('eth',1,'privkey')"
   ]
  },
  {
   "cell_type": "code",
   "execution_count": 96,
   "metadata": {},
   "outputs": [
    {
     "data": {
      "text/plain": [
       "'cS1Kyi1UsZ1HV1Gr2kdNKFa5VRt4cB1CzNML1jr7GBFtFX4HgVZ1'"
      ]
     },
     "execution_count": 96,
     "metadata": {},
     "output_type": "execute_result"
    }
   ],
   "source": [
    "# Test print the third key generated\n",
    "child_key(BTCTEST,2,'privkey')"
   ]
  },
  {
   "cell_type": "code",
   "execution_count": 97,
   "metadata": {},
   "outputs": [
    {
     "data": {
      "text/plain": [
       "'cRPGPdbdsLa94TUpqxoxTckka8haU64qGXej9CEgLUr72Td6jYhU'"
      ]
     },
     "execution_count": 97,
     "metadata": {},
     "output_type": "execute_result"
    }
   ],
   "source": [
    "child_key('btc-test',1,'privkey')"
   ]
  },
  {
   "cell_type": "markdown",
   "metadata": {},
   "source": [
    "## Link to transaction signing libraries"
   ]
  },
  {
   "cell_type": "code",
   "execution_count": 98,
   "metadata": {},
   "outputs": [],
   "source": [
    "from web3 import Web3, Account, middleware\n",
    "from web3.middleware import geth_poa_middleware\n",
    "# Transaction mined within 60 seconds for fast_gas_strategy\n",
    "from web3.gas_strategies.time_based import fast_gas_price_strategy\n",
    "from eth_account import Account\n",
    "\n",
    "import bit\n",
    "from bit import PrivateKeyTestnet\n",
    "from bit.network import NetworkAPI\n",
    "\n",
    "from pathlib import Path\n",
    "from getpass import getpass"
   ]
  },
  {
   "cell_type": "code",
   "execution_count": 99,
   "metadata": {},
   "outputs": [],
   "source": [
    "# Create a function to link private key of a child key to bit or web3 for transactions\n",
    "## The two cryptos return different objects: priv_key = child_key(coin, index, secret)\n",
    "### The variable, secret, passes 'privkey' string from a child key\n",
    "def priv_key_to_account(coin, priv_key):\n",
    "    if coin == ETH:\n",
    "        account = Account.privateKeyToAccount(priv_key)\n",
    "        return account\n",
    "    if coin == BTCTEST:\n",
    "        account = PrivateKeyTestnet(priv_key)\n",
    "        return account"
   ]
  },
  {
   "cell_type": "code",
   "execution_count": 109,
   "metadata": {},
   "outputs": [
    {
     "name": "stdout",
     "output_type": "stream",
     "text": [
      "{'btc_0': <PrivateKeyTestnet: msq6GD9gqqsnKQNtk8XwrGVU7pxZ6gJ83v>, 'btc_0.address': 'msq6GD9gqqsnKQNtk8XwrGVU7pxZ6gJ83v'}\n"
     ]
    }
   ],
   "source": [
    "btc_0 = priv_key_to_account(BTCTEST, child_key('btc-test',0,'privkey'))\n",
    "btc0 = {'btc_0': btc_0, 'btc_0.address': btc_0.address}\n",
    "print(btc0)"
   ]
  },
  {
   "cell_type": "code",
   "execution_count": 110,
   "metadata": {},
   "outputs": [
    {
     "name": "stdout",
     "output_type": "stream",
     "text": [
      "{'btc_1': <PrivateKeyTestnet: mqa2MEYrG9JhBSLpAuEtFTwogJFDToJ9Fx>, 'btc_1.address': 'mqa2MEYrG9JhBSLpAuEtFTwogJFDToJ9Fx'}\n"
     ]
    }
   ],
   "source": [
    "btc_1 = priv_key_to_account(BTCTEST, child_key('btc-test',1,'privkey'))\n",
    "btc1 = {'btc_1': btc_1, 'btc_1.address': btc_1.address}\n",
    "print(btc1)"
   ]
  },
  {
   "cell_type": "code",
   "execution_count": 111,
   "metadata": {},
   "outputs": [
    {
     "name": "stdout",
     "output_type": "stream",
     "text": [
      "{'eth_0': <eth_account.signers.local.LocalAccount object at 0x11a83f450>, 'eth_0.address': '0x18FffAd71460dEF9AE7B4567c05Fe8a5dA53de45'}\n"
     ]
    }
   ],
   "source": [
    "eth_0 = priv_key_to_account(ETH, child_key('eth',0,'privkey'))\n",
    "eth0 = {'eth_0': eth_0, 'eth_0.address': eth_0.address}\n",
    "print(eth0)"
   ]
  },
  {
   "cell_type": "code",
   "execution_count": 112,
   "metadata": {},
   "outputs": [
    {
     "name": "stdout",
     "output_type": "stream",
     "text": [
      "{'eth_1': <eth_account.signers.local.LocalAccount object at 0x11a83fa10>, 'eth_1.address': '0xC276D64A07719010889B795541e1987418a20d96'}\n"
     ]
    }
   ],
   "source": [
    "eth_1 = priv_key_to_account(ETH, child_key('eth',1,'privkey'))\n",
    "eth1 = {'eth_1': eth_1, 'eth_1.address': eth_1.address}\n",
    "print(eth1)"
   ]
  },
  {
   "cell_type": "code",
   "execution_count": 102,
   "metadata": {},
   "outputs": [],
   "source": [
    "# Connect localhost to web3\n",
    "w3 = Web3(Web3.HTTPProvider(\"http://127.0.0.1:8545\"))\n",
    "w3.middleware_stack.inject(geth_poa_middleware, layer=0)"
   ]
  },
  {
   "cell_type": "code",
   "execution_count": 134,
   "metadata": {},
   "outputs": [],
   "source": [
    "def create_tx(coin, account, to, amount):\n",
    "    \n",
    "    if coin == ETH:\n",
    "        gasEstimate = w3.eth.estimateGas(\n",
    "            {\"from\": account.address, \"to\": to, \"value\": amount}\n",
    "    )\n",
    "        tx = {\n",
    "            \"from\": account.address,\n",
    "            \"to\": to,\n",
    "            \"value\": amount,\n",
    "            \"gasPrice\": w3.eth.generateGasPrice(),\n",
    "            \"gas\": gasEstimate,\n",
    "            \"nonce\": w3.eth.getTransactionCount(account.address),\n",
    "            \"chainId\": w3.net.chainId\n",
    "    }\n",
    "        return tx\n",
    "\n",
    "    if coin == BTCTEST:\n",
    "        tx = PrivateKeyTestnet.prepare_transaction(account.address, [(to, amount, BTC)])\n",
    "        return tx"
   ]
  },
  {
   "cell_type": "code",
   "execution_count": 135,
   "metadata": {},
   "outputs": [
    {
     "data": {
      "text/plain": [
       "'{\"unspents\":[{\"amount\":2768810,\"confirmations\":0,\"script\":\"76a914870fa5f36d168cbf0fbee9abe1c7eb46f1339c4688ac\",\"txid\":\"4ea6f6724efcdfca32166bc417afb9a41f86106633dbe20c82ef07fd44a3e03d\",\"txindex\":1,\"type\":\"p2pkh\",\"vsize\":148,\"segwit\":false}],\"outputs\":[[\"mqa2MEYrG9JhBSLpAuEtFTwogJFDToJ9Fx\",10000],[\"msq6GD9gqqsnKQNtk8XwrGVU7pxZ6gJ83v\",2714966]]}'"
      ]
     },
     "execution_count": 135,
     "metadata": {},
     "output_type": "execute_result"
    }
   ],
   "source": [
    "# Initiate a transaction of 0.0001 satoshi on bitcoin testnet\n",
    "create_tx(BTCTEST, btc_0, btc_1.address, 0.0001)"
   ]
  },
  {
   "cell_type": "code",
   "execution_count": 139,
   "metadata": {},
   "outputs": [],
   "source": [
    "def send_tx(coin, account, to, amount):\n",
    "    if coin == ETH:\n",
    "        raw_tx = create_tx(coin, account, to, amount)\n",
    "        signed = account.signTransaction(raw_tx)\n",
    "        result = w3.eth.sendRawTransaction(signed.rawTransaction)\n",
    "        print(signed)\n",
    "        return result\n",
    "    \n",
    "    if coin == BTCTEST:\n",
    "        raw_tx = create_tx(coin, account, to, amount)\n",
    "        signed = account.sign_transaction(raw_tx)\n",
    "        result = NetworkAPI.broadcast_tx_testnet(signed)\n",
    "        print(signed)\n",
    "        return result"
   ]
  },
  {
   "cell_type": "code",
   "execution_count": 140,
   "metadata": {},
   "outputs": [
    {
     "name": "stdout",
     "output_type": "stream",
     "text": [
      "01000000013de0a344fd07ef820ce2db336610861fa4b9af17c46b1632cadffc4e72f6a64e010000006a473044022079e0438cc29d1ccde6e9e892bbff95d8f7183f4d4646fc1308fad28a0f8e10cb02207da5f6a633da2f7e24fdde6ecf1d5bfe7daa19442f598f6171cc5b7efdec398d012102b9be12c5f3586393912e123d582e5320dde51a2829300dd4ba8c8165e156ac28ffffffff0210270000000000001976a9146e45e3f9ad839050e26221640a22157f5ac011a288ac566d2900000000001976a914870fa5f36d168cbf0fbee9abe1c7eb46f1339c4688ac00000000\n"
     ]
    }
   ],
   "source": [
    "# Send a transaction of 0.0001 satoshi on bitcoin testnet \n",
    "send_tx(BTCTEST, btc_0, btc_1.address, 0.0001)"
   ]
  }
 ],
 "metadata": {
  "kernelspec": {
   "display_name": "eth2",
   "language": "python",
   "name": "eth2"
  },
  "language_info": {
   "codemirror_mode": {
    "name": "ipython",
    "version": 3
   },
   "file_extension": ".py",
   "mimetype": "text/x-python",
   "name": "python",
   "nbconvert_exporter": "python",
   "pygments_lexer": "ipython3",
   "version": "3.7.7"
  }
 },
 "nbformat": 4,
 "nbformat_minor": 4
}
